{
 "cells": [
  {
   "cell_type": "markdown",
   "id": "0ffb8369",
   "metadata": {},
   "source": [
    "# DataScience Tools and Ecosystem"
   ]
  },
  {
   "cell_type": "markdown",
   "id": "f74464e9",
   "metadata": {},
   "source": [
    "In this notebook, Data Science Tools and Ecosystem are summarized."
   ]
  },
  {
   "cell_type": "markdown",
   "id": "12b7e9ad",
   "metadata": {},
   "source": [
    "# objectives:\n",
    "<ul>\n",
    "    <li>List popular languages for Data Science</li>\n",
    "    <li>List popular frameworks for Data Science</li>\n",
    "    <li>List popular open source software for Data Science</li>\n",
    "    <li>List tools for Data Science</li>\n",
    "    <li>List arithmetic operations for Data Science</li>\n",
    "    </ul>"
   ]
  },
  {
   "cell_type": "markdown",
   "id": "b321f64f",
   "metadata": {},
   "source": [
    "some of the languages DataScientist use are:\n",
    "<ol>\n",
    "<li>Python</li>\n",
    "<li>R</li>\n",
    "<li>java</li>\n",
    "<li>julia</li>\n",
    "<li>Scala</li>\n",
    "</ol>"
   ]
  },
  {
   "cell_type": "markdown",
   "id": "29d219aa",
   "metadata": {},
   "source": [
    "Some of the commonly used libraries used by Data Scientists include:\n",
    "<ol>\n",
    "<p>Scientific computing</p>\n",
    "<li>Pandas</li>\n",
    "<li>Numpy</li>\n",
    "<p>Data Visualization</p>\n",
    "<li>Matplotlib</li>\n",
    "<li>seaborn</li>\n",
    "<p>High-level MachineLearning and Deeplearning</p>\n",
    "<li>Scikit learn</li>\n",
    "<li>keras</li>\n",
    "</ol>"
   ]
  },
  {
   "cell_type": "markdown",
   "id": "1d578002",
   "metadata": {},
   "source": [
    "<table >\n",
    "<tr><th >Data Science Tools <th><tr>\n",
    "<tr><td> Stretched <td><tr>\n",
    "<tr><td>Jupyter Notebook<td><tr>\n",
    "<tr><td>jupyter Lab<td><tr>\n",
    "<tr><td>R studio<td><tr>\n",
    "<tr><td>Apache Zepplin<td><tr>\n",
    "\n",
    "<table>"
   ]
  },
  {
   "cell_type": "markdown",
   "id": "249231cd",
   "metadata": {},
   "source": [
    "### Below are a few examples of evaluating arithmetic expressions in Python\n",
    "\n",
    "<ol>\n",
    "<li>addition (5+10)</li>\n",
    "<li>subtraction (10-3)</li>\n",
    "<li>division (15/3)</li>\n",
    "<li>multiplication (4*3)</li>\n",
    "</ol>"
   ]
  },
  {
   "cell_type": "code",
   "execution_count": 1,
   "id": "840b8e77",
   "metadata": {},
   "outputs": [
    {
     "data": {
      "text/plain": [
       "17"
      ]
     },
     "execution_count": 1,
     "metadata": {},
     "output_type": "execute_result"
    }
   ],
   "source": [
    "#This is a simple arithmetic expression to multiply then add integers\n",
    "(3*4)+5"
   ]
  },
  {
   "cell_type": "code",
   "execution_count": 2,
   "id": "b78fc639",
   "metadata": {},
   "outputs": [
    {
     "data": {
      "text/plain": [
       "3.3333333333333335"
      ]
     },
     "execution_count": 2,
     "metadata": {},
     "output_type": "execute_result"
    }
   ],
   "source": [
    "#This will convert 200 minutes to hours by dividing by 60\n",
    "(200/60)"
   ]
  },
  {
   "cell_type": "markdown",
   "id": "2a417ee5",
   "metadata": {},
   "source": [
    "## Author\n",
    "Johan Meraz"
   ]
  },
  {
   "cell_type": "code",
   "execution_count": null,
   "id": "c4907ec9",
   "metadata": {},
   "outputs": [],
   "source": []
  }
 ],
 "metadata": {
  "kernelspec": {
   "display_name": "Python 3 (ipykernel)",
   "language": "python",
   "name": "python3"
  },
  "language_info": {
   "codemirror_mode": {
    "name": "ipython",
    "version": 3
   },
   "file_extension": ".py",
   "mimetype": "text/x-python",
   "name": "python",
   "nbconvert_exporter": "python",
   "pygments_lexer": "ipython3",
   "version": "3.9.7"
  }
 },
 "nbformat": 4,
 "nbformat_minor": 5
}
